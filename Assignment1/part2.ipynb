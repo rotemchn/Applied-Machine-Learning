{
 "cells": [
  {
   "cell_type": "code",
   "execution_count": 1,
   "id": "initial_id",
   "metadata": {
    "collapsed": true,
    "ExecuteTime": {
     "end_time": "2024-05-26T14:52:05.819491Z",
     "start_time": "2024-05-26T14:51:52.763044Z"
    }
   },
   "outputs": [
    {
     "name": "stdout",
     "output_type": "stream",
     "text": [
      "Collecting pmlbNote: you may need to restart the kernel to use updated packages.\n",
      "\n",
      "  Downloading pmlb-1.0.1.post3-py3-none-any.whl.metadata (1.7 kB)\n",
      "Requirement already satisfied: pandas>=1.0.5 in c:\\users\\rotem\\appdata\\local\\programs\\python\\python312\\lib\\site-packages (from pmlb) (2.2.1)\n",
      "Requirement already satisfied: requests>=2.24.0 in c:\\users\\rotem\\appdata\\local\\programs\\python\\python312\\lib\\site-packages (from pmlb) (2.31.0)\n",
      "Requirement already satisfied: pyyaml>=5.3.1 in c:\\users\\rotem\\appdata\\local\\programs\\python\\python312\\lib\\site-packages (from pmlb) (6.0.1)\n",
      "Requirement already satisfied: numpy<2,>=1.26.0 in c:\\users\\rotem\\appdata\\local\\programs\\python\\python312\\lib\\site-packages (from pandas>=1.0.5->pmlb) (1.26.4)\n",
      "Requirement already satisfied: python-dateutil>=2.8.2 in c:\\users\\rotem\\appdata\\local\\programs\\python\\python312\\lib\\site-packages (from pandas>=1.0.5->pmlb) (2.9.0.post0)\n",
      "Requirement already satisfied: pytz>=2020.1 in c:\\users\\rotem\\appdata\\local\\programs\\python\\python312\\lib\\site-packages (from pandas>=1.0.5->pmlb) (2024.1)\n",
      "Requirement already satisfied: tzdata>=2022.7 in c:\\users\\rotem\\appdata\\local\\programs\\python\\python312\\lib\\site-packages (from pandas>=1.0.5->pmlb) (2024.1)\n",
      "Requirement already satisfied: charset-normalizer<4,>=2 in c:\\users\\rotem\\appdata\\local\\programs\\python\\python312\\lib\\site-packages (from requests>=2.24.0->pmlb) (3.3.2)\n",
      "Requirement already satisfied: idna<4,>=2.5 in c:\\users\\rotem\\appdata\\local\\programs\\python\\python312\\lib\\site-packages (from requests>=2.24.0->pmlb) (3.6)\n",
      "Requirement already satisfied: urllib3<3,>=1.21.1 in c:\\users\\rotem\\appdata\\local\\programs\\python\\python312\\lib\\site-packages (from requests>=2.24.0->pmlb) (2.2.1)\n",
      "Requirement already satisfied: certifi>=2017.4.17 in c:\\users\\rotem\\appdata\\local\\programs\\python\\python312\\lib\\site-packages (from requests>=2.24.0->pmlb) (2024.2.2)\n",
      "Requirement already satisfied: six>=1.5 in c:\\users\\rotem\\appdata\\local\\programs\\python\\python312\\lib\\site-packages (from python-dateutil>=2.8.2->pandas>=1.0.5->pmlb) (1.16.0)\n",
      "Downloading pmlb-1.0.1.post3-py3-none-any.whl (19 kB)\n",
      "Installing collected packages: pmlb\n",
      "Successfully installed pmlb-1.0.1.post3\n"
     ]
    }
   ],
   "source": [
    "# pip install pmlb --upgrade"
   ]
  },
  {
   "cell_type": "markdown",
   "source": [
    "Load the Data"
   ],
   "metadata": {
    "collapsed": false
   },
   "id": "da398b880d4a6a67"
  },
  {
   "cell_type": "code",
   "outputs": [
    {
     "name": "stdout",
     "output_type": "stream",
     "text": [
      "(3848, 5)\n"
     ]
    }
   ],
   "source": [
    "from pmlb import fetch_data\n",
    "import pandas as pd\n",
    "\n",
    "pollen_data = fetch_data('529_pollen') # load_data\n",
    "pollen_df = pollen_data.drop(columns=['target']) # remove the labels' column\n",
    "labels = pollen_data.target\n",
    "\n",
    "print(pollen_data.shape)"
   ],
   "metadata": {
    "collapsed": false,
    "ExecuteTime": {
     "end_time": "2024-05-27T17:21:36.817003600Z",
     "start_time": "2024-05-27T17:21:33.140492800Z"
    }
   },
   "id": "c1d0cd657c598094",
   "execution_count": 10
  },
  {
   "cell_type": "markdown",
   "source": [
    "Imports"
   ],
   "metadata": {
    "collapsed": false
   },
   "id": "c7d838ae627839a6"
  },
  {
   "cell_type": "code",
   "outputs": [],
   "source": [
    "import numpy as np\n",
    "import matplotlib.pyplot as plt\n",
    "from sklearn.model_selection import train_test_split\n",
    "from sklearn.linear_model import LinearRegression\n",
    "from sklearn.metrics import mean_squared_error\n",
    "from itertools import combinations"
   ],
   "metadata": {
    "collapsed": false,
    "ExecuteTime": {
     "end_time": "2024-05-27T17:22:34.949556500Z",
     "start_time": "2024-05-27T17:22:27.589485900Z"
    }
   },
   "id": "4d3a71ed040e71e4",
   "execution_count": 11
  },
  {
   "cell_type": "markdown",
   "source": [
    "Analyze Data"
   ],
   "metadata": {
    "collapsed": false
   },
   "id": "d368eb18d57532dc"
  },
  {
   "cell_type": "code",
   "outputs": [
    {
     "name": "stdout",
     "output_type": "stream",
     "text": [
      "Number of samples: 48842\n",
      "Number of features: 14\n",
      "\n",
      "Features' range:\n",
      "age: 17.0 - 90.0\n",
      "workclass: 0.0 - 8.0\n",
      "fnlwgt: 12285.0 - 1490400.0\n",
      "education: 0.0 - 15.0\n",
      "education-num: 1.0 - 16.0\n",
      "marital-status: 0.0 - 6.0\n",
      "occupation: 0.0 - 14.0\n",
      "relationship: 0.0 - 5.0\n",
      "race: 0.0 - 4.0\n",
      "sex: 0.0 - 1.0\n",
      "capital-gain: 0.0 - 99999.0\n",
      "capital-loss: 0.0 - 4356.0\n",
      "hours-per-week: 1.0 - 99.0\n",
      "native-country: 0.0 - 41.0\n",
      "\n",
      "Features' STD:\n",
      "age                   13.710510\n",
      "workclass              1.464234\n",
      "fnlwgt            105604.025423\n",
      "education              3.874492\n",
      "education-num          2.570973\n",
      "marital-status         1.507703\n",
      "occupation             4.230509\n",
      "relationship           1.602151\n",
      "race                   0.845986\n",
      "sex                    0.470764\n",
      "capital-gain        7452.019058\n",
      "capital-loss         403.004552\n",
      "hours-per-week        12.391444\n",
      "native-country         7.775343\n",
      "dtype: float64\n",
      "\n",
      "Features' Variance:\n",
      "age               1.879781e+02\n",
      "workclass         2.143980e+00\n",
      "fnlwgt            1.115221e+10\n",
      "education         1.501169e+01\n",
      "education-num     6.609901e+00\n",
      "marital-status    2.273167e+00\n",
      "occupation        1.789721e+01\n",
      "relationship      2.566889e+00\n",
      "race              7.156923e-01\n",
      "sex               2.216183e-01\n",
      "capital-gain      5.553259e+07\n",
      "capital-loss      1.624127e+05\n",
      "hours-per-week    1.535479e+02\n",
      "native-country    6.045596e+01\n",
      "dtype: float64\n"
     ]
    }
   ],
   "source": [
    "print(f\"Number of samples: {pollen_df.shape[0]}\")\n",
    "print(f\"Number of features: {pollen_df.shape[1]}\\n\")\n",
    "summary_stats = pollen_df.describe()\n",
    "min_max = summary_stats.loc[['min', 'max']] # get min and max for each feature\n",
    "# range of each feature\n",
    "print(\"Features' range:\")\n",
    "for feature in pollen_df.columns:\n",
    "    print(f'{feature}: {min_max.loc[\"min\", feature]} - {min_max.loc[\"max\", feature]}')\n",
    "\n",
    "print(\"\\nFeatures' STD:\")\n",
    "print(pollen_df.std())\n",
    "print(\"\\nFeatures' Variance:\")\n",
    "print(pollen_df.var())"
   ],
   "metadata": {
    "collapsed": false,
    "ExecuteTime": {
     "end_time": "2024-05-26T15:07:42.411429800Z",
     "start_time": "2024-05-26T15:07:42.188862800Z"
    }
   },
   "id": "9c177d731c0fb147",
   "execution_count": 11
  },
  {
   "cell_type": "code",
   "outputs": [],
   "source": [
    "def train_and_predict(df, labels):\n",
    "    ratios = np.arange(0.1, 1, 0.1) # different ratios\n",
    "    result = []\n",
    "    for ratio in ratios:\n",
    "        X_train, X_test, y_train, y_test = train_test_split(df, labels, test_size=ratio) # split the data into train and test\n",
    "        \n",
    "        lr = LinearRegression() \n",
    "        lr.fit(X_train, y_train) # train the model\n",
    "    \n",
    "        predicted = lr.predict(X_test) # predict the labels\n",
    "        \n",
    "        mse = mean_squared_error(y_pred=predicted, y_true=y_test)\n",
    "        result.append(mse)\n",
    "    \n",
    "    plt.plot(ratios, result)\n",
    "    plt.xlabel('Test Ratio')\n",
    "    plt.ylabel('Mean Square Error')\n",
    "    plt.title('Results')\n",
    "    plt.show()"
   ],
   "metadata": {
    "collapsed": false,
    "ExecuteTime": {
     "end_time": "2024-05-27T17:23:52.252691600Z",
     "start_time": "2024-05-27T17:23:52.229414300Z"
    }
   },
   "id": "9b5ea103b1f32f62",
   "execution_count": 12
  },
  {
   "cell_type": "code",
   "outputs": [
    {
     "data": {
      "text/plain": "<Figure size 640x480 with 1 Axes>",
      "image/png": "[encoded data removed]"
     },
     "metadata": {},
     "output_type": "display_data"
    }
   ],
   "source": [
    "train_and_predict(pollen_df, labels)"
   ],
   "metadata": {
    "collapsed": false,
    "ExecuteTime": {
     "end_time": "2024-05-27T17:24:56.116764900Z",
     "start_time": "2024-05-27T17:24:55.918513900Z"
    }
   },
   "id": "e251048c974d7454",
   "execution_count": 19
  },
  {
   "cell_type": "code",
   "outputs": [],
   "source": [
    "def k_features(df, labels, k, r):\n",
    "    X_train, X_test, y_train, y_test = train_test_split(df, labels, test_size=r) # split the data\n",
    "    best_mse = float('inf')\n",
    "    best_features = None\n",
    "    for features in combinations(range(X_train.shape[1]), k): # create all possible combinations\n",
    "        x_train_k = X_train.iloc[:, list(features)] # use the selected features\n",
    "        x_test_k = X_test.iloc[:, list(features)]\n",
    "        \n",
    "        lr = LinearRegression() \n",
    "        lr.fit(x_train_k, y_train) # train the model\n",
    "        \n",
    "        predicted = lr.predict(x_test_k)\n",
    "        mse = mean_squared_error(y_pred=predicted, y_true=y_test)\n",
    "        if mse < best_mse: # check best results\n",
    "            best_mse = mse\n",
    "            best_features = features\n",
    "    return best_mse, best_features"
   ],
   "metadata": {
    "collapsed": false,
    "ExecuteTime": {
     "end_time": "2024-05-27T17:25:08.135316600Z",
     "start_time": "2024-05-27T17:25:08.125407300Z"
    }
   },
   "id": "6b905ca850e21bdd",
   "execution_count": 20
  },
  {
   "cell_type": "markdown",
   "source": [
    "k-naive features"
   ],
   "metadata": {
    "collapsed": false
   },
   "id": "e4c07be13cdb9293"
  },
  {
   "cell_type": "code",
   "outputs": [
    {
     "name": "stdout",
     "output_type": "stream",
     "text": [
      "k = 2:\n",
      "Best MSE: 3.535276955910485\n",
      "Best Features: RIDGE WEIGHT \n",
      "k = 3:\n",
      "Best MSE: 2.0712657200862346\n",
      "Best Features: RIDGE NUB WEIGHT \n"
     ]
    }
   ],
   "source": [
    "for k in range(2, 4): # check for k=2 and k=3\n",
    "    results = k_features(pollen_df, labels, k, 0.1)\n",
    "    print(f'k = {k}:')\n",
    "    print(f'Best MSE: {results[0]}')\n",
    "    print(\"Best Features: \", end=\"\")\n",
    "    for index in results[1]:\n",
    "        print(pollen_df.columns[index], end=\" \")\n",
    "    print()"
   ],
   "metadata": {
    "collapsed": false,
    "ExecuteTime": {
     "end_time": "2024-05-27T17:25:25.668526600Z",
     "start_time": "2024-05-27T17:25:25.609401300Z"
    }
   },
   "id": "9a2d430726dfd43c",
   "execution_count": 21
  }
 ],
 "metadata": {
  "kernelspec": {
   "display_name": "Python 3",
   "language": "python",
   "name": "python3"
  },
  "language_info": {
   "codemirror_mode": {
    "name": "ipython",
    "version": 2
   },
   "file_extension": ".py",
   "mimetype": "text/x-python",
   "name": "python",
   "nbconvert_exporter": "python",
   "pygments_lexer": "ipython2",
   "version": "2.7.6"
  }
 },
 "nbformat": 4,
 "nbformat_minor": 5
}
