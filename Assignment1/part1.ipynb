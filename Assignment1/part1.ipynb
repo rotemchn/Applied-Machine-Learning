{
 "cells": [
  {
   "cell_type": "markdown",
   "source": [
    "Imports"
   ],
   "metadata": {
    "collapsed": false
   },
   "id": "d9f84214082f5753"
  },
  {
   "cell_type": "code",
   "outputs": [],
   "source": [
    "from sklearn.model_selection import train_test_split\n",
    "from sklearn.linear_model import LogisticRegression\n",
    "from sklearn.metrics import accuracy_score\n",
    "import numpy as np\n",
    "import matplotlib.pyplot as plt\n",
    "from itertools import combinations\n",
    "from sklearn.datasets import load_wine\n",
    "import pandas as pd"
   ],
   "metadata": {
    "collapsed": false,
    "ExecuteTime": {
     "end_time": "2024-05-28T11:35:49.332637300Z",
     "start_time": "2024-05-28T11:35:47.838465400Z"
    }
   },
   "id": "d98a48aeb3ae13dd",
   "execution_count": 1
  },
  {
   "cell_type": "markdown",
   "source": [
    "Load the Data"
   ],
   "metadata": {
    "collapsed": false
   },
   "id": "6760a67544563c01"
  },
  {
   "cell_type": "code",
   "outputs": [],
   "source": [
    "wine = load_wine()"
   ],
   "metadata": {
    "collapsed": false,
    "ExecuteTime": {
     "end_time": "2024-05-28T11:35:51.626198100Z",
     "start_time": "2024-05-28T11:35:51.611868Z"
    }
   },
   "id": "4d278a5ef9f9ce4e",
   "execution_count": 2
  },
  {
   "cell_type": "markdown",
   "source": [
    "Create a DataFrame for easier manipulation and inspection"
   ],
   "metadata": {
    "collapsed": false
   },
   "id": "4d464fd61214d03"
  },
  {
   "cell_type": "code",
   "outputs": [
    {
     "name": "stdout",
     "output_type": "stream",
     "text": [
      "(178, 13)\n"
     ]
    }
   ],
   "source": [
    "wine_df = pd.DataFrame(data=wine.data, columns=wine.feature_names)\n",
    "shape = wine_df.shape\n",
    "print(shape)\n",
    "labels = wine.target # the labels of the wines"
   ],
   "metadata": {
    "collapsed": false,
    "ExecuteTime": {
     "end_time": "2024-05-28T11:36:04.890732400Z",
     "start_time": "2024-05-28T11:36:04.873142200Z"
    }
   },
   "id": "e39cdff71bbeb6a9",
   "execution_count": 3
  },
  {
   "cell_type": "markdown",
   "source": [
    "Analyze Data"
   ],
   "metadata": {
    "collapsed": false
   },
   "id": "8a16288dff729e0c"
  },
  {
   "cell_type": "code",
   "outputs": [
    {
     "name": "stdout",
     "output_type": "stream",
     "text": [
      "Number of samples: 178\n",
      "Number of features: 13\n",
      "\n",
      "Features' range:\n",
      "alcohol: 11.03 - 14.83\n",
      "malic_acid: 0.74 - 5.8\n",
      "ash: 1.36 - 3.23\n",
      "alcalinity_of_ash: 10.6 - 30.0\n",
      "magnesium: 70.0 - 162.0\n",
      "total_phenols: 0.98 - 3.88\n",
      "flavanoids: 0.34 - 5.08\n",
      "nonflavanoid_phenols: 0.13 - 0.66\n",
      "proanthocyanins: 0.41 - 3.58\n",
      "color_intensity: 1.28 - 13.0\n",
      "hue: 0.48 - 1.71\n",
      "od280/od315_of_diluted_wines: 1.27 - 4.0\n",
      "proline: 278.0 - 1680.0\n",
      "\n",
      "Features' STD:\n",
      "alcohol                           0.811827\n",
      "malic_acid                        1.117146\n",
      "ash                               0.274344\n",
      "alcalinity_of_ash                 3.339564\n",
      "magnesium                        14.282484\n",
      "total_phenols                     0.625851\n",
      "flavanoids                        0.998859\n",
      "nonflavanoid_phenols              0.124453\n",
      "proanthocyanins                   0.572359\n",
      "color_intensity                   2.318286\n",
      "hue                               0.228572\n",
      "od280/od315_of_diluted_wines      0.709990\n",
      "proline                         314.907474\n",
      "dtype: float64\n",
      "\n",
      "Features' Variance:\n",
      "alcohol                             0.659062\n",
      "malic_acid                          1.248015\n",
      "ash                                 0.075265\n",
      "alcalinity_of_ash                  11.152686\n",
      "magnesium                         203.989335\n",
      "total_phenols                       0.391690\n",
      "flavanoids                          0.997719\n",
      "nonflavanoid_phenols                0.015489\n",
      "proanthocyanins                     0.327595\n",
      "color_intensity                     5.374449\n",
      "hue                                 0.052245\n",
      "od280/od315_of_diluted_wines        0.504086\n",
      "proline                         99166.717355\n",
      "dtype: float64\n"
     ]
    }
   ],
   "source": [
    "print(f\"Number of samples: {wine_df.shape[0]}\")\n",
    "print(f\"Number of features: {shape[1]}\\n\")\n",
    "summary_stats = wine_df.describe()\n",
    "min_max = summary_stats.loc[['min', 'max']] # get min and max for each feature\n",
    "# range of each feature\n",
    "print(\"Features' range:\")\n",
    "for feature in wine_df.columns:\n",
    "    print(f'{feature}: {min_max.loc[\"min\", feature]} - {min_max.loc[\"max\", feature]}')\n",
    "\n",
    "print(\"\\nFeatures' STD:\")\n",
    "print(wine_df.std())\n",
    "print(\"\\nFeatures' Variance:\")\n",
    "print(wine_df.var())\n",
    "# print(wine_df.corr())"
   ],
   "metadata": {
    "collapsed": false,
    "ExecuteTime": {
     "end_time": "2024-05-28T11:36:07.375959200Z",
     "start_time": "2024-05-28T11:36:07.348631800Z"
    }
   },
   "id": "c1d62675376e44dc",
   "execution_count": 4
  },
  {
   "cell_type": "markdown",
   "source": [
    "Check accuracy for different test size ratio "
   ],
   "metadata": {
    "collapsed": false
   },
   "id": "1b8f7ff4c498c4cf"
  },
  {
   "cell_type": "code",
   "outputs": [],
   "source": [
    "def train_and_predict(df, labels):\n",
    "    ratios = np.arange(0.1, 1, 0.1) # different ratios\n",
    "    result = []\n",
    "    for ratio in ratios:\n",
    "        X_train, X_test, y_train, y_test = train_test_split(df, labels, test_size=ratio)\n",
    "        lr = LogisticRegression(max_iter=10000) # we chose number of iteration to reach converge\n",
    "        lr.fit(X_train, y_train) # train the model\n",
    "    \n",
    "        predicted = lr.predict(X_test) # predict the labels\n",
    "    \n",
    "        score = accuracy_score(y_test, predicted) \n",
    "        result.append(score)\n",
    "    \n",
    "    plt.plot(ratios, result)\n",
    "    plt.xlabel('Test Ratio')\n",
    "    plt.ylabel('Accuracy')\n",
    "    plt.title('Results')\n",
    "    plt.show()"
   ],
   "metadata": {
    "collapsed": false,
    "ExecuteTime": {
     "end_time": "2024-05-28T11:36:16.322758600Z",
     "start_time": "2024-05-28T11:36:16.303612500Z"
    }
   },
   "id": "ea3e5426d46ceb57",
   "execution_count": 5
  },
  {
   "cell_type": "code",
   "outputs": [
    {
     "data": {
      "text/plain": "<Figure size 640x480 with 1 Axes>",
      "image/png": "[encoded data removed]"
     },
     "metadata": {},
     "output_type": "display_data"
    }
   ],
   "source": [
    "train_and_predict(wine_df, labels)"
   ],
   "metadata": {
    "collapsed": false,
    "ExecuteTime": {
     "end_time": "2024-05-28T11:36:21.095810300Z",
     "start_time": "2024-05-28T11:36:18.549065300Z"
    }
   },
   "id": "b5309005225cb324",
   "execution_count": 6
  },
  {
   "cell_type": "markdown",
   "source": [
    "Create balanced data"
   ],
   "metadata": {
    "collapsed": false
   },
   "id": "d338f37fcb518af9"
  },
  {
   "cell_type": "code",
   "outputs": [
    {
     "name": "stderr",
     "output_type": "stream",
     "text": [
      "C:\\Users\\rotem\\AppData\\Local\\Temp\\ipykernel_9420\\2939081530.py:4: DeprecationWarning: DataFrameGroupBy.apply operated on the grouping columns. This behavior is deprecated, and in a future version of pandas the grouping columns will be excluded from the operation. Either pass `include_groups=False` to exclude the groupings or explicitly select the grouping columns after groupby to silence this warning.\n",
      "  sampled_labels_df = labels_df.groupby(0, group_keys=False).apply(lambda x: x.sample(l_min)) # select l_min number of indexes for each label\n"
     ]
    }
   ],
   "source": [
    "labels_df = pd.DataFrame(labels)\n",
    "label_counts = labels_df.value_counts()\n",
    "l_min = label_counts.min()\n",
    "sampled_labels_df = labels_df.groupby(0, group_keys=False).apply(lambda x: x.sample(l_min)) # select l_min number of indexes for each label \n",
    "\n",
    "balanced_wine_df = wine_df.loc[sampled_labels_df.index] # create the balanced dataframe"
   ],
   "metadata": {
    "collapsed": false,
    "ExecuteTime": {
     "end_time": "2024-05-28T11:37:23.713774100Z",
     "start_time": "2024-05-28T11:37:23.687295600Z"
    }
   },
   "id": "33fb30f9d33c3b95",
   "execution_count": 11
  },
  {
   "cell_type": "code",
   "outputs": [
    {
     "data": {
      "text/plain": "<Figure size 640x480 with 1 Axes>",
      "image/png": "[encoded data removed]"
     },
     "metadata": {},
     "output_type": "display_data"
    }
   ],
   "source": [
    "train_and_predict(balanced_wine_df, np.ravel(sampled_labels_df.to_numpy()))"
   ],
   "metadata": {
    "collapsed": false,
    "ExecuteTime": {
     "end_time": "2024-05-28T11:37:28.549415800Z",
     "start_time": "2024-05-28T11:37:25.603246300Z"
    }
   },
   "id": "bb1f431acfd8516",
   "execution_count": 12
  },
  {
   "cell_type": "code",
   "outputs": [],
   "source": [
    "def k_features(df, labels, k, r):\n",
    "    X_train, X_test, y_train, y_test = train_test_split(df, labels, test_size=r) # split the data\n",
    "    best_acc = 0\n",
    "    best_features = None\n",
    "    for features in combinations(range(X_train.shape[1]), k): # create all possible combinations\n",
    "        x_train_k = X_train.iloc[:, list(features)] # use the selected features\n",
    "        x_test_k = X_test.iloc[:, list(features)]\n",
    "        \n",
    "        lr = LogisticRegression(max_iter=1000) # we chose number of iteration to reach converge\n",
    "        lr.fit(x_train_k, y_train) # train the model\n",
    "        \n",
    "        predicted = lr.predict(x_test_k)\n",
    "        score = accuracy_score(y_test, predicted)\n",
    "        if score > best_acc: # check best results\n",
    "            best_acc = score\n",
    "            best_features = features\n",
    "    return best_acc, best_features\n",
    "        \n",
    "        \n",
    "    "
   ],
   "metadata": {
    "collapsed": false,
    "ExecuteTime": {
     "end_time": "2024-05-28T11:37:34.326980400Z",
     "start_time": "2024-05-28T11:37:34.312865300Z"
    }
   },
   "id": "4b24bb33f23c9a61",
   "execution_count": 13
  },
  {
   "cell_type": "code",
   "outputs": [
    {
     "name": "stdout",
     "output_type": "stream",
     "text": [
      "Best Accuracy: 1.0\n",
      "Best Features: total_phenols color_intensity "
     ]
    }
   ],
   "source": [
    "results = k_features(balanced_wine_df, np.ravel(sampled_labels_df.to_numpy()), 2, 0.1)\n",
    "print(f'Best Accuracy: {results[0]}')\n",
    "print(\"Best Features: \", end=\"\")\n",
    "for index in results[1]:\n",
    "    print(wine_df.columns[index], end=\" \")"
   ],
   "metadata": {
    "collapsed": false,
    "ExecuteTime": {
     "end_time": "2024-05-28T11:38:44.371337500Z",
     "start_time": "2024-05-28T11:38:43.478688400Z"
    }
   },
   "id": "af67232d887fd8bb",
   "execution_count": 20
  }
 ],
 "metadata": {
  "kernelspec": {
   "display_name": "Python 3",
   "language": "python",
   "name": "python3"
  },
  "language_info": {
   "codemirror_mode": {
    "name": "ipython",
    "version": 2
   },
   "file_extension": ".py",
   "mimetype": "text/x-python",
   "name": "python",
   "nbconvert_exporter": "python",
   "pygments_lexer": "ipython2",
   "version": "2.7.6"
  }
 },
 "nbformat": 4,
 "nbformat_minor": 5
}
